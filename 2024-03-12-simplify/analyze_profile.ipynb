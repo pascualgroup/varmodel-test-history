{
 "cells": [
  {
   "cell_type": "code",
   "execution_count": 12,
   "metadata": {},
   "outputs": [],
   "source": [
    "import Profile\n",
    "import StatProfilerHTML.statprofilehtml\n",
    "import Serialization"
   ]
  },
  {
   "cell_type": "code",
   "execution_count": 3,
   "metadata": {},
   "outputs": [],
   "source": [
    "# cd(\"..\")"
   ]
  },
  {
   "cell_type": "code",
   "execution_count": 13,
   "metadata": {},
   "outputs": [],
   "source": [
    "data_before, lidict_before = Serialization.deserialize(\"output/before/runs/c1/r1/profile_data\");\n",
    "data_after, lidict_after = Serialization.deserialize(\"output/after/runs/c1/r1/profile_data\");"
   ]
  },
  {
   "cell_type": "code",
   "execution_count": 14,
   "metadata": {},
   "outputs": [
    {
     "name": "stdout",
     "output_type": "stream",
     "text": [
      "Overhead ╎ [+additional indent] Count File:Line; Function\n",
      "=========================================================\n",
      "   ╎2165 @Base/client.jl:552; _start\n",
      "   ╎ 2165 @Base/client.jl:318; exec_options\n",
      "   ╎  2165 @Base/Base.jl:495; include\n",
      "   ╎   2165 @Base/loading.jl:2130; _include\n",
      "   ╎    2165 @Base/loading.jl:2070; include_string\n",
      "   ╎     2165 @Base/boot.jl:385; eval\n",
      "   ╎    ╎ 2165 /home/ed/Documents/varmodels/varmodel-test-history/2024-03-12-simplify/varmodel3-before/src/model.jl:75; run\n",
      "   ╎    ╎  2165 /home/ed/Documents/varmodels/varmodel-test-history/2024-03-12-simplify/varmodel3-before/src/model.jl:83; profile\n",
      "  1╎    ╎   2165 @Profile/src/Profile.jl:27; macro expansion\n",
      " 46╎    ╎    53   /home/ed/Documents/varmodels/varmodel-test-history/2024-03-12-simplify/varmodel3-before/src/model.jl:129; run_inner\n",
      " 33╎    ╎    57   /home/ed/Documents/varmodels/varmodel-test-history/2024-03-12-simplify/varmodel3-before/src/model.jl:131; run_inner\n",
      " 48╎    ╎    51   /home/ed/Documents/varmodels/varmodel-test-history/2024-03-12-simplify/varmodel3-before/src/model.jl:132; run_inner\n",
      " 74╎    ╎    80   /home/ed/Documents/varmodels/varmodel-test-history/2024-03-12-simplify/varmodel3-before/src/model.jl:137; run_inner\n",
      "   ╎    ╎    219  /home/ed/Documents/varmodels/varmodel-test-history/2024-03-12-simplify/varmodel3-before/src/model.jl:154; run_inner\n",
      "  3╎    ╎     42   /home/ed/Documents/varmodels/varmodel-test-history/2024-03-12-simplify/varmodel3-before/src/model.jl:215; recompute_gene_group_id_association!\n",
      "  3╎    ╎    ╎ 39   @StaticArrays/src/indexing.jl:260; getindex\n",
      "   ╎    ╎    ╎  33   @StaticArrays/src/indexing.jl:81; index_sizes\n",
      " 10╎    ╎    ╎   33   @Base/tuple.jl:319; map\n",
      "  8╎    ╎     66   /home/ed/Documents/varmodels/varmodel-test-history/2024-03-12-simplify/varmodel3-before/src/model.jl:223; recompute_gene_group_id_association!\n",
      " 10╎    ╎    ╎ 57   @StaticArrays/src/indexing.jl:260; getindex\n",
      "   ╎    ╎    ╎  44   @StaticArrays/src/indexing.jl:81; index_sizes\n",
      " 10╎    ╎    ╎   44   @Base/tuple.jl:319; map\n",
      "   ╎    ╎    ╎    34   @StaticArrays/src/indexing.jl:76; index_size\n",
      "   ╎    ╎    ╎     34   @StaticArraysCore/src/StaticArraysCore.jl:476; Size\n",
      " 34╎    ╎    ╎    ╎ 34   @StaticArraysCore/src/StaticArraysCore.jl:471; Size\n",
      " 52╎    ╎     52   /home/ed/Documents/varmodels/varmodel-test-history/2024-03-12-simplify/varmodel3-before/src/model.jl:224; recompute_gene_group_id_association!\n",
      " 10╎    ╎     25   /home/ed/Documents/varmodels/varmodel-test-history/2024-03-12-simplify/varmodel3-before/src/model.jl:225; recompute_gene_group_id_association!\n",
      " 22╎    ╎    31   /home/ed/Documents/varmodels/varmodel-test-history/2024-03-12-simplify/varmodel3-before/src/model.jl:161; run_inner\n",
      " 49╎    ╎    1601 /home/ed/Documents/varmodels/varmodel-test-history/2024-03-12-simplify/varmodel3-before/src/model.jl:163; run_inner\n",
      "  3╎    ╎     595  /home/ed/Documents/varmodels/varmodel-test-history/2024-03-12-simplify/varmodel3-before/src/model.jl:505; do_event!\n",
      " 20╎    ╎    ╎ 42   /home/ed/Documents/varmodels/varmodel-test-history/2024-03-12-simplify/varmodel3-before/src/model.jl:584; do_biting!\n",
      "  8╎    ╎    ╎ 44   /home/ed/Documents/varmodels/varmodel-test-history/2024-03-12-simplify/varmodel3-before/src/model.jl:591; do_biting!\n",
      "   ╎    ╎    ╎  29   @Base/arraymath.jl:21; *\n",
      "   ╎    ╎    ╎   29   @Base/broadcast.jl:892; broadcast_preserving_zero_d\n",
      "   ╎    ╎    ╎    29   @Base/broadcast.jl:903; materialize\n",
      "  3╎    ╎    ╎ 153  /home/ed/Documents/varmodels/varmodel-test-history/2024-03-12-simplify/varmodel3-before/src/model.jl:631; do_biting!\n",
      "  3╎    ╎    ╎  29   /home/ed/Documents/varmodels/varmodel-test-history/2024-03-12-simplify/varmodel3-before/src/util.jl:112; sample_columns_from_two_matrices_to_util2!\n",
      "  8╎    ╎    ╎   26   @Base/abstractarray.jl:1393; setindex!\n",
      "   ╎    ╎    ╎  40   /home/ed/Documents/varmodels/varmodel-test-history/2024-03-12-simplify/varmodel3-before/src/util.jl:121; sample_columns_from_two_matrices_to_util2!\n",
      " 12╎    ╎    ╎ 97   /home/ed/Documents/varmodels/varmodel-test-history/2024-03-12-simplify/varmodel3-before/src/model.jl:680; do_biting!\n",
      " 11╎    ╎    ╎  81   @StaticArrays/src/indexing.jl:260; getindex\n",
      "   ╎    ╎    ╎   64   @StaticArrays/src/indexing.jl:81; index_sizes\n",
      " 15╎    ╎    ╎    64   @Base/tuple.jl:319; map\n",
      "   ╎    ╎    ╎     49   @StaticArrays/src/indexing.jl:76; index_size\n",
      "   ╎    ╎    ╎    ╎ 49   @StaticArraysCore/src/StaticArraysCore.jl:476; Size\n",
      " 49╎    ╎    ╎    ╎  49   @StaticArraysCore/src/StaticArraysCore.jl:471; Size\n",
      " 57╎    ╎    ╎ 59   /home/ed/Documents/varmodels/varmodel-test-history/2024-03-12-simplify/varmodel3-before/src/model.jl:681; do_biting!\n",
      "  3╎    ╎    ╎ 35   /home/ed/Documents/varmodels/varmodel-test-history/2024-03-12-simplify/varmodel3-before/src/model.jl:690; do_biting!\n",
      "  1╎    ╎    ╎  32   @Base/array.jl:2447; findall\n",
      "   ╎    ╎    ╎   30   @Base/broadcast.jl:903; materialize\n",
      "  1╎    ╎     948  /home/ed/Documents/varmodels/varmodel-test-history/2024-03-12-simplify/varmodel3-before/src/model.jl:511; do_event!\n",
      " 26╎    ╎    ╎ 26   /home/ed/Documents/varmodels/varmodel-test-history/2024-03-12-simplify/varmodel3-before/src/model.jl:914; do_switching!\n",
      " 51╎    ╎    ╎ 54   /home/ed/Documents/varmodels/varmodel-test-history/2024-03-12-simplify/varmodel3-before/src/model.jl:916; do_switching!\n",
      "  1╎    ╎    ╎ 323  /home/ed/Documents/varmodels/varmodel-test-history/2024-03-12-simplify/varmodel3-before/src/model.jl:919; do_switching!\n",
      " 34╎    ╎    ╎  34   /home/ed/Documents/varmodels/varmodel-test-history/2024-03-12-simplify/varmodel3-before/src/model.jl:724; advance_host!\n",
      " 17╎    ╎    ╎  33   /home/ed/Documents/varmodels/varmodel-test-history/2024-03-12-simplify/varmodel3-before/src/model.jl:725; advance_host!\n",
      "  1╎    ╎    ╎  27   /home/ed/Documents/varmodels/varmodel-test-history/2024-03-12-simplify/varmodel3-before/src/model.jl:726; advance_host!\n",
      " 26╎    ╎    ╎   26   @Base/float.jl:536; <\n",
      "   ╎    ╎    ╎  204  /home/ed/Documents/varmodels/varmodel-test-history/2024-03-12-simplify/varmodel3-before/src/model.jl:742; advance_host!\n",
      " 24╎    ╎    ╎   53   /home/ed/Documents/varmodels/varmodel-test-history/2024-03-12-simplify/varmodel3-before/src/model.jl:999; advance_immune_genes!\n",
      " 76╎    ╎    ╎   144  /home/ed/Documents/varmodels/varmodel-test-history/2024-03-12-simplify/varmodel3-before/src/model.jl:1025; advance_immune_genes!\n",
      " 27╎    ╎    ╎    27   @Base/abstractarray.jl:1285; getindex\n",
      "   ╎    ╎    ╎    28   /home/ed/Documents/varmodels/varmodel-test-history/2024-03-12-simplify/varmodel3-before/src/model.jl:1441; is_immune\n",
      " 17╎    ╎    ╎ 29   /home/ed/Documents/varmodels/varmodel-test-history/2024-03-12-simplify/varmodel3-before/src/model.jl:929; do_switching!\n",
      "  3╎    ╎    ╎ 31   /home/ed/Documents/varmodels/varmodel-test-history/2024-03-12-simplify/varmodel3-before/src/model.jl:950; do_switching!\n",
      "  1╎    ╎    ╎  25   /home/ed/Documents/varmodels/varmodel-test-history/2024-03-12-simplify/varmodel3-before/src/model.jl:1394; increment_immunity!\n",
      "  4╎    ╎    ╎ 461  /home/ed/Documents/varmodels/varmodel-test-history/2024-03-12-simplify/varmodel3-before/src/model.jl:977; do_switching!\n",
      "133╎    ╎    ╎  282  /home/ed/Documents/varmodels/varmodel-test-history/2024-03-12-simplify/varmodel3-before/src/model.jl:994; advance_immune_genes!\n",
      " 25╎    ╎    ╎   25   @Base/Base.jl:37; getproperty\n",
      " 47╎    ╎    ╎   47   @Base/abstractarray.jl:1285; getindex\n",
      "   ╎    ╎    ╎   40   @Base/abstractarray.jl:1288; getindex\n",
      "   ╎    ╎    ╎    25   @Base/multidimensional.jl:889; _getindex\n",
      "   ╎    ╎    ╎   37   /home/ed/Documents/varmodels/varmodel-test-history/2024-03-12-simplify/varmodel3-before/src/model.jl:1441; is_immune\n",
      "   ╎    ╎    ╎    32   @Base/dict.jl:524; get\n",
      " 29╎    ╎    ╎  53   /home/ed/Documents/varmodels/varmodel-test-history/2024-03-12-simplify/varmodel3-before/src/model.jl:999; advance_immune_genes!\n",
      " 62╎    ╎    ╎  102  /home/ed/Documents/varmodels/varmodel-test-history/2024-03-12-simplify/varmodel3-before/src/model.jl:1025; advance_immune_genes!\n",
      "Total snapshots: 2178. Utilization: 100% across all threads and tasks. Use the `groupby` kwarg to break down by thread and/or task.\n"
     ]
    }
   ],
   "source": [
    "# BEFORE CHANGES\n",
    "# Profile.print(data, lidict, mincount = 50)\n",
    "Profile.print(IOContext(stdout, :displaysize => (24, 5000)), data_before, lidict_before, mincount = 25)\n",
    "# statprofilehtml(data_before, lidict_before; path = \"profile_before.html\")"
   ]
  },
  {
   "cell_type": "code",
   "execution_count": 9,
   "metadata": {},
   "outputs": [
    {
     "name": "stdout",
     "output_type": "stream",
     "text": [
      "Overhead ╎ [+additional indent] Count File:Line; Function\n",
      "=========================================================\n",
      "   ╎4169 @Base/client.jl:552; _start\n",
      "   ╎ 4169 @Base/client.jl:318; exec_options\n",
      "   ╎  4169 @Base/Base.jl:495; include\n",
      "   ╎   4169 @Base/loading.jl:2130; _include\n",
      "   ╎    4169 @Base/loading.jl:2070; include_string\n",
      "   ╎     4169 @Base/boot.jl:385; eval\n",
      "   ╎    ╎ 4169 /home/ed/Documents/varmodels/varmodel-test-history/2024-03-12-simplify/varmodel3-after/src/model.jl:70; run\n",
      "   ╎    ╎  4169 /home/ed/Documents/varmodels/varmodel-test-history/2024-03-12-simplify/varmodel3-after/src/model.jl:78; profile\n",
      " 11╎    ╎   4169 @Profile/src/Profile.jl:27; macro expansion\n",
      "106╎    ╎    124  /home/ed/Documents/varmodels/varmodel-test-history/2024-03-12-simplify/varmodel3-after/src/model.jl:121; run_inner\n",
      "127╎    ╎    220  /home/ed/Documents/varmodels/varmodel-test-history/2024-03-12-simplify/varmodel3-after/src/model.jl:123; run_inner\n",
      "166╎    ╎    191  /home/ed/Documents/varmodels/varmodel-test-history/2024-03-12-simplify/varmodel3-after/src/model.jl:124; run_inner\n",
      "198╎    ╎    209  /home/ed/Documents/varmodels/varmodel-test-history/2024-03-12-simplify/varmodel3-after/src/model.jl:129; run_inner\n",
      "   ╎    ╎    182  /home/ed/Documents/varmodels/varmodel-test-history/2024-03-12-simplify/varmodel3-after/src/model.jl:146; run_inner\n",
      " 78╎    ╎    983  /home/ed/Documents/varmodels/varmodel-test-history/2024-03-12-simplify/varmodel3-after/src/model.jl:154; run_inner\n",
      " 23╎    ╎     904  @StatsBase/src/sampling.jl:603; sample\n",
      "431╎    ╎    ╎ 491  @StatsBase/src/sampling.jl:597; sample\n",
      "313╎    ╎    ╎ 348  @StatsBase/src/sampling.jl:599; sample\n",
      "182╎    ╎    1823 /home/ed/Documents/varmodels/varmodel-test-history/2024-03-12-simplify/varmodel3-after/src/model.jl:156; run_inner\n",
      "  2╎    ╎     508  /home/ed/Documents/varmodels/varmodel-test-history/2024-03-12-simplify/varmodel3-after/src/model.jl:457; do_event!\n",
      "  1╎    ╎    ╎ 158  /home/ed/Documents/varmodels/varmodel-test-history/2024-03-12-simplify/varmodel3-after/src/model.jl:590; do_biting!\n",
      "  1╎    ╎     521  /home/ed/Documents/varmodels/varmodel-test-history/2024-03-12-simplify/varmodel3-after/src/model.jl:463; do_event!\n",
      " 96╎    ╎    ╎ 113  /home/ed/Documents/varmodels/varmodel-test-history/2024-03-12-simplify/varmodel3-after/src/model.jl:778; do_liver_progress!\n",
      "   ╎    ╎    ╎ 159  /home/ed/Documents/varmodels/varmodel-test-history/2024-03-12-simplify/varmodel3-after/src/model.jl:803; do_liver_progress!\n",
      " 49╎    ╎    ╎  104  /home/ed/Documents/varmodels/varmodel-test-history/2024-03-12-simplify/varmodel3-after/src/model.jl:943; advance_immune_genes!\n",
      "  4╎    ╎     594  /home/ed/Documents/varmodels/varmodel-test-history/2024-03-12-simplify/varmodel3-after/src/model.jl:465; do_event!\n",
      "  1╎    ╎    ╎ 424  /home/ed/Documents/varmodels/varmodel-test-history/2024-03-12-simplify/varmodel3-after/src/model.jl:895; do_switching!\n",
      "142╎    ╎    ╎  292  /home/ed/Documents/varmodels/varmodel-test-history/2024-03-12-simplify/varmodel3-after/src/model.jl:912; advance_immune_genes!\n",
      "  8╎    ╎    172  /home/ed/Documents/varmodels/varmodel-test-history/2024-03-12-simplify/varmodel3-after/src/model.jl:162; run_inner\n",
      "120╎    ╎    127  /home/ed/Documents/varmodels/varmodel-test-history/2024-03-12-simplify/varmodel3-after/src/model.jl:163; run_inner\n",
      "Total snapshots: 4185. Utilization: 100% across all threads and tasks. Use the `groupby` kwarg to break down by thread and/or task.\n"
     ]
    }
   ],
   "source": [
    "# AFTER CHANGES\n",
    "Profile.print(IOContext(stdout, :displaysize => (24, 5000)), data_after, lidict_after, mincount = 100)\n",
    "#statprofilehtml(data_after, lidict_after; path = \"profile_after.html\")"
   ]
  },
  {
   "cell_type": "code",
   "execution_count": null,
   "metadata": {},
   "outputs": [],
   "source": []
  }
 ],
 "metadata": {
  "kernelspec": {
   "display_name": "Julia 1.10.0",
   "language": "julia",
   "name": "julia-1.10"
  },
  "language_info": {
   "file_extension": ".jl",
   "mimetype": "application/julia",
   "name": "julia",
   "version": "1.10.0"
  }
 },
 "nbformat": 4,
 "nbformat_minor": 2
}
