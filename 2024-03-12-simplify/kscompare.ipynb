{
 "cells": [
  {
   "cell_type": "code",
   "execution_count": 1,
   "metadata": {},
   "outputs": [],
   "source": [
    "using SQLite\n",
    "import SQLite.Stmt\n",
    "import SQLite.DBInterface.execute\n",
    "using Distributions"
   ]
  },
  {
   "cell_type": "code",
   "execution_count": 2,
   "metadata": {},
   "outputs": [
    {
     "data": {
      "text/plain": [
       "SQLite.DB(\"output/after/sweep_db_gathered.sqlite\")"
      ]
     },
     "metadata": {},
     "output_type": "display_data"
    }
   ],
   "source": [
    "db1 = SQLite.DB(\"output/before/sweep_db_gathered.sqlite\")\n",
    "db2 = SQLite.DB(\"output/after/sweep_db_gathered.sqlite\")"
   ]
  },
  {
   "cell_type": "code",
   "execution_count": 5,
   "metadata": {},
   "outputs": [
    {
     "data": {
      "text/plain": [
       "16-element Vector{Tuple{Int64, String, Float64}}:\n",
       " (1, \"elapsed_time\", 626.674)\n",
       " (2, \"elapsed_time\", 651.306)\n",
       " (3, \"elapsed_time\", 627.021)\n",
       " (4, \"elapsed_time\", 656.851)\n",
       " (5, \"elapsed_time\", 666.755)\n",
       " (6, \"elapsed_time\", 671.558)\n",
       " (7, \"elapsed_time\", 661.042)\n",
       " (8, \"elapsed_time\", 667.093)\n",
       " (9, \"elapsed_time\", 670.459)\n",
       " (10, \"elapsed_time\", 660.387)\n",
       " (11, \"elapsed_time\", 656.222)\n",
       " (12, \"elapsed_time\", 668.965)\n",
       " (13, \"elapsed_time\", 651.669)\n",
       " (14, \"elapsed_time\", 671.954)\n",
       " (15, \"elapsed_time\", 657.675)\n",
       " (16, \"elapsed_time\", 652.863)"
      ]
     },
     "metadata": {},
     "output_type": "display_data"
    }
   ],
   "source": [
    "[(run_id, time, value) for (run_id, time, value) in execute(db1, \"SELECT * FROM run_meta WHERE key = \\\"elapsed_time\\\"\")]"
   ]
  },
  {
   "cell_type": "code",
   "execution_count": 10,
   "metadata": {},
   "outputs": [
    {
     "data": {
      "text/plain": [
       "query_value_for_run_id (generic function with 1 method)"
      ]
     },
     "metadata": {},
     "output_type": "display_data"
    }
   ],
   "source": [
    "import StatsAPI.pvalue\n",
    "import StatsBase.mean\n",
    "import StatsBase.mad\n",
    "import HypothesisTests.ApproximateTwoSampleKSTest\n",
    "\n",
    "# Functions to compare using K-S tests\n",
    "\n",
    "\"\"\"\n",
    "    Do K-S tests using SQLite queries that take one parameter, run_id.\n",
    "\n",
    "    `db1` and `db2` are assumed to have identical parameter combinations labeled the same way,\n",
    "    via the `combo_id` column in the `runs` table.\n",
    "\n",
    "    The query should return a single value for the provided run_id.\n",
    "\n",
    "    If values from db2 need to be extracted with a different query, provide a value for `q2`.\n",
    "\"\"\"\n",
    "function compare(db1, db2, q1; q2 = q1)\n",
    "    combo_ids = get_combo_ids(db1)\n",
    "    @assert all(combo_ids .== get_combo_ids(db2))\n",
    "    [(combo_id, compare(db1, db2, combo_id, q1; q2 = q2)) for combo_id in combo_ids]\n",
    "end\n",
    "\n",
    "function get_combo_ids(db)\n",
    "    [combo_id for (combo_id,) in execute(db, \"SELECT DISTINCT combo_id FROM runs ORDER BY combo_id\")]\n",
    "end\n",
    "\n",
    "function get_run_ids(db, combo_id)\n",
    "    [run_id for (run_id,) in execute(db, \"SELECT run_id FROM runs WHERE combo_id = ?\", [combo_id])]\n",
    "end\n",
    "\n",
    "function compare(db1, db2, combo_id, q1; q2 = q1)\n",
    "    v1 = query_values_for_combo_id(db1, combo_id, q1)\n",
    "    mean1 = mean(v1)\n",
    "    mad1 = mad(v1; center = mean1)\n",
    "\n",
    "    v2 = query_values_for_combo_id(db2, combo_id, q2)\n",
    "    mean2 = mean(v2)\n",
    "    mad2 = mad(v2; center = mean2)\n",
    "\n",
    "    (ApproximateTwoSampleKSTest(v1, v2), (mean1, mad1), (mean2, mad2))\n",
    "end\n",
    "\n",
    "function query_values_for_combo_id(db, combo_id, q)\n",
    "    stmt = Stmt(db, q)\n",
    "    run_ids = get_run_ids(db, combo_id)\n",
    "\n",
    "    [query_value_for_run_id(stmt, run_id) for run_id in run_ids]\n",
    "end\n",
    "\n",
    "function query_value_for_run_id(stmt, run_id)\n",
    "    for (value,) in execute(stmt, (run_id,))\n",
    "        return value\n",
    "    end\n",
    "end"
   ]
  },
  {
   "cell_type": "code",
   "execution_count": 13,
   "metadata": {},
   "outputs": [
    {
     "name": "stdout",
     "output_type": "stream",
     "text": [
      "Testing elapsed time for parameter combination 1...\n",
      "    (mean1 657.4058749999999, mad1 11.452360836846488)\n",
      "    (mean2 591.86375, mad2 38.166999561544316)\n",
      "    p-value: 9.570234784258016e-6\n",
      "    DIFFERENT distributions w/ p < 0.01\n"
     ]
    }
   ],
   "source": [
    "for (combo_id, (test, (mean1, mad1), (mean2, mad2))) in compare(\n",
    "    db1, db2, \"SELECT value FROM run_meta WHERE key = \\\"elapsed_time\\\" AND run_id = ?\"\n",
    ")\n",
    "    println(\"Testing elapsed time for parameter combination $(combo_id)...\")\n",
    "    println(\"    (mean1 $(mean1), mad1 $(mad1))\")\n",
    "    println(\"    (mean2 $(mean2), mad2 $(mad2))\")\n",
    "    println(\"    p-value: $(pvalue(test))\")\n",
    "    if pvalue(test) < 0.01\n",
    "        println(\"    DIFFERENT distributions w/ p < 0.01\")\n",
    "    else\n",
    "        println(\"    undetectable difference between distributions w/ p < 0.01\")\n",
    "    end\n",
    "end"
   ]
  },
  {
   "cell_type": "code",
   "execution_count": null,
   "metadata": {},
   "outputs": [],
   "source": []
  }
 ],
 "metadata": {
  "kernelspec": {
   "display_name": "Julia 1.10.0",
   "language": "julia",
   "name": "julia-1.10"
  },
  "language_info": {
   "file_extension": ".jl",
   "mimetype": "application/julia",
   "name": "julia",
   "version": "1.10.0"
  }
 },
 "nbformat": 4,
 "nbformat_minor": 2
}
