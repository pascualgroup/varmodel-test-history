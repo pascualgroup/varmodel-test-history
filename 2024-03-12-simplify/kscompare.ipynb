{
 "cells": [
  {
   "cell_type": "code",
   "execution_count": 1,
   "metadata": {},
   "outputs": [],
   "source": [
    "using SQLite\n",
    "import SQLite.Stmt\n",
    "import SQLite.DBInterface.execute\n",
    "using Distributions"
   ]
  },
  {
   "cell_type": "code",
   "execution_count": 2,
   "metadata": {},
   "outputs": [
    {
     "data": {
      "text/plain": [
       "SQLite.DB(\"output/after/sweep_db_gathered.sqlite\")"
      ]
     },
     "metadata": {},
     "output_type": "display_data"
    }
   ],
   "source": [
    "db1 = SQLite.DB(\"output/before/sweep_db_gathered.sqlite\")\n",
    "db2 = SQLite.DB(\"output/after/sweep_db_gathered.sqlite\")"
   ]
  },
  {
   "cell_type": "code",
   "execution_count": 3,
   "metadata": {},
   "outputs": [
    {
     "data": {
      "text/plain": [
       "query_value_for_run_id (generic function with 1 method)"
      ]
     },
     "metadata": {},
     "output_type": "display_data"
    }
   ],
   "source": [
    "import StatsAPI.pvalue\n",
    "import StatsBase.mean\n",
    "import StatsBase.mad\n",
    "import HypothesisTests.ApproximateTwoSampleKSTest\n",
    "\n",
    "# Functions to compare using K-S tests\n",
    "\n",
    "\"\"\"\n",
    "    Do K-S tests using SQLite queries that take one parameter, run_id.\n",
    "\n",
    "    `db1` and `db2` are assumed to have identical parameter combinations labeled the same way,\n",
    "    via the `combo_id` column in the `runs` table.\n",
    "\n",
    "    The query should return a single value for the provided run_id.\n",
    "\n",
    "    If values from db2 need to be extracted with a different query, provide a value for `q2`.\n",
    "\"\"\"\n",
    "function compare(db1, db2, q1; q2 = q1)\n",
    "    combo_ids = get_combo_ids(db1)\n",
    "    @assert all(combo_ids .== get_combo_ids(db2))\n",
    "    [(combo_id, compare(db1, db2, combo_id, q1; q2 = q2)) for combo_id in combo_ids]\n",
    "end\n",
    "\n",
    "function get_combo_ids(db)\n",
    "    [combo_id for (combo_id,) in execute(db, \"SELECT DISTINCT combo_id FROM runs ORDER BY combo_id\")]\n",
    "end\n",
    "\n",
    "function get_run_ids(db, combo_id)\n",
    "    [run_id for (run_id,) in execute(db, \"SELECT run_id FROM runs WHERE combo_id = ?\", [combo_id])]\n",
    "end\n",
    "\n",
    "function compare(db1, db2, combo_id, q1; q2 = q1)\n",
    "    v1 = query_values_for_combo_id(db1, combo_id, q1)\n",
    "    mean1 = mean(v1)\n",
    "    mad1 = mad(v1; center = mean1)\n",
    "\n",
    "    v2 = query_values_for_combo_id(db2, combo_id, q2)\n",
    "    mean2 = mean(v2)\n",
    "    mad2 = mad(v2; center = mean2)\n",
    "\n",
    "    (ApproximateTwoSampleKSTest(v1, v2), (mean1, mad1), (mean2, mad2))\n",
    "end\n",
    "\n",
    "function query_values_for_combo_id(db, combo_id, q)\n",
    "    stmt = Stmt(db, q)\n",
    "    run_ids = get_run_ids(db, combo_id)\n",
    "\n",
    "    [query_value_for_run_id(stmt, run_id) for run_id in run_ids]\n",
    "end\n",
    "\n",
    "function query_value_for_run_id(stmt, run_id)\n",
    "    for (value,) in execute(stmt, (run_id,))\n",
    "        return value\n",
    "    end\n",
    "end"
   ]
  },
  {
   "cell_type": "code",
   "execution_count": 4,
   "metadata": {},
   "outputs": [
    {
     "name": "stdout",
     "output_type": "stream",
     "text": [
      "Testing elapsed time for parameter combination 1...\n",
      "    (mean1 214.79646666666667, mad1 3.810979582594712)\n",
      "    (mean2 513.8502666666666, mad2 10.681061742705813)\n",
      "    p-value: 6.118046410036549e-7\n",
      "    DIFFERENT distributions w/ p < 0.01\n",
      "    fractional difference: -1.3922659187131254\n"
     ]
    }
   ],
   "source": [
    "for (combo_id, (test, (mean1, mad1), (mean2, mad2))) in compare(\n",
    "    db1, db2, \"SELECT value FROM run_meta WHERE key = \\\"elapsed_time\\\" AND run_id = ?\"\n",
    ")\n",
    "    println(\"Testing elapsed time for parameter combination $(combo_id)...\")\n",
    "    println(\"    (mean1 $(mean1), mad1 $(mad1))\")\n",
    "    println(\"    (mean2 $(mean2), mad2 $(mad2))\")\n",
    "    println(\"    p-value: $(pvalue(test))\")\n",
    "    if pvalue(test) < 0.01\n",
    "        println(\"    DIFFERENT distributions w/ p < 0.01\")\n",
    "    else\n",
    "        println(\"    undetectable difference between distributions w/ p < 0.01\")\n",
    "    end\n",
    "    println(\"    fractional difference: $((mean1 - mean2) / mean1)\")\n",
    "end"
   ]
  },
  {
   "cell_type": "markdown",
   "metadata": {},
   "source": [
    "## Mean # active infected hosts from 90 to 100 years"
   ]
  },
  {
   "cell_type": "code",
   "execution_count": 6,
   "metadata": {},
   "outputs": [
    {
     "name": "stdout",
     "output_type": "stream",
     "text": [
      "Testing mean infected for parameter combination 1...\n",
      "    (mean1 310.1076923076923, mad1 10.423834059339312)\n",
      "    (mean2 271.18461538461537, mad2 12.613523489747662)\n",
      "    p-value: 4.22910789740631e-6\n",
      "    DIFFERENT distributions w/ p < 0.01\n",
      "    fractional difference: 0.12551470953018798\n"
     ]
    }
   ],
   "source": [
    "for (combo_id, (test, (mean1, mad1), (mean2, mad2))) in compare(\n",
    "    db1, db2, \"SELECT AVG(n_infected_active) FROM summary WHERE run_id = ? AND (time >= 9 * 360) AND (time <= 100 * 360)\"\n",
    ")\n",
    "    println(\"Testing mean infected for parameter combination $(combo_id)...\")\n",
    "    println(\"    (mean1 $(mean1), mad1 $(mad1))\")\n",
    "    println(\"    (mean2 $(mean2), mad2 $(mad2))\")\n",
    "    println(\"    p-value: $(pvalue(test))\")\n",
    "    if pvalue(test) < 0.01\n",
    "        println(\"    DIFFERENT distributions w/ p < 0.01\")\n",
    "    else\n",
    "        println(\"    undetectable difference between distributions w/ p < 0.01\")\n",
    "    end\n",
    "    println(\"    fractional difference: $((mean1 - mean2) / mean1)\")\n",
    "end"
   ]
  },
  {
   "cell_type": "markdown",
   "metadata": {},
   "source": [
    "## Mean # circulating genes from 90 to 100 years"
   ]
  },
  {
   "cell_type": "code",
   "execution_count": 7,
   "metadata": {},
   "outputs": [
    {
     "name": "stdout",
     "output_type": "stream",
     "text": [
      "Testing mean infected for parameter combination 1...\n",
      "    (mean1 1199.9333333333334, mad1 0.09884014790028356)\n",
      "    (mean2 1199.7666666666667, mad2 0.34594051765132955)\n",
      "    p-value: 0.9250856809941739\n",
      "    undetectable difference between distributions w/ p < 0.01\n",
      "    fractional difference: 0.000138896605367028\n"
     ]
    }
   ],
   "source": [
    "for (combo_id, (test, (mean1, mad1), (mean2, mad2))) in compare(\n",
    "    db1, db2, \"SELECT AVG(n_circulating_genes_blood) FROM gene_strain_counts WHERE run_id = ? AND (time >= 9 * 360) AND (time <= 10 * 360)\"\n",
    ")\n",
    "    println(\"Testing mean infected for parameter combination $(combo_id)...\")\n",
    "    println(\"    (mean1 $(mean1), mad1 $(mad1))\")\n",
    "    println(\"    (mean2 $(mean2), mad2 $(mad2))\")\n",
    "    println(\"    p-value: $(pvalue(test))\")\n",
    "    if pvalue(test) < 0.01\n",
    "        println(\"    DIFFERENT distributions w/ p < 0.01\")\n",
    "    else\n",
    "        println(\"    undetectable difference between distributions w/ p < 0.01\")\n",
    "    end\n",
    "    println(\"    fractional difference: $((mean1 - mean2) / mean1)\")\n",
    "end"
   ]
  },
  {
   "cell_type": "code",
   "execution_count": null,
   "metadata": {},
   "outputs": [],
   "source": []
  }
 ],
 "metadata": {
  "kernelspec": {
   "display_name": "Julia 1.10.0",
   "language": "julia",
   "name": "julia-1.10"
  },
  "language_info": {
   "file_extension": ".jl",
   "mimetype": "application/julia",
   "name": "julia",
   "version": "1.10.0"
  }
 },
 "nbformat": 4,
 "nbformat_minor": 4
}
